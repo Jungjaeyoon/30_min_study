{
 "cells": [
  {
   "cell_type": "markdown",
   "metadata": {},
   "source": [
    "# Array"
   ]
  },
  {
   "cell_type": "markdown",
   "metadata": {},
   "source": [
    "### Array는 고정된 item 수, 한 array 내의 자료 타입이 모두 같은 형태의 자료구조 "
   ]
  },
  {
   "cell_type": "markdown",
   "metadata": {},
   "source": [
    "### Element : array 내에 저장된 각 아이템들\n",
    "### Index : element의 위치"
   ]
  },
  {
   "cell_type": "markdown",
   "metadata": {},
   "source": [
    "### Array의 기본적 연산들 \n",
    "\n",
    "Traverse − print all the array elements one by one.\n",
    "\n",
    "Insertion − Adds an element at the given index.\n",
    "\n",
    "Deletion − Deletes an element at the given index.\n",
    "\n",
    "Search − Searches an element using the given index or by the value.\n",
    "\n",
    "Update − Updates an element at the given index."
   ]
  },
  {
   "cell_type": "code",
   "execution_count": 1,
   "metadata": {},
   "outputs": [],
   "source": [
    "from array import array"
   ]
  },
  {
   "cell_type": "code",
   "execution_count": 2,
   "metadata": {
    "scrolled": true
   },
   "outputs": [
    {
     "name": "stdout",
     "output_type": "stream",
     "text": [
      "array('i', [1, 2, 3, 4, 5])\n",
      "<class 'array.array'>\n",
      "5\n"
     ]
    }
   ],
   "source": [
    "#arrayName = array(typecode, [Initializers])\n",
    "array1 = array('i', [1,2,3,4,5])\n",
    "print(array1)\n",
    "print(type(array1))\n",
    "print(len(array1))"
   ]
  },
  {
   "cell_type": "code",
   "execution_count": 3,
   "metadata": {},
   "outputs": [
    {
     "name": "stdout",
     "output_type": "stream",
     "text": [
      "1\n",
      "3\n"
     ]
    }
   ],
   "source": [
    "#Elements print using index\n",
    "\n",
    "print(array1[0])\n",
    "print(array1[2])"
   ]
  },
  {
   "cell_type": "code",
   "execution_count": 4,
   "metadata": {},
   "outputs": [
    {
     "name": "stdout",
     "output_type": "stream",
     "text": [
      "array('i', [1, 60, 2, 3, 4, 5])\n"
     ]
    }
   ],
   "source": [
    "# array에 element를 추가하는 것은 가능하지만 삽입하는 위치 뒤의 모든 element의 위치를 하나씩 밀어야 하기 때문에 비효율적.\n",
    "array1.insert(1,60)\n",
    "print(array1)"
   ]
  },
  {
   "cell_type": "code",
   "execution_count": 5,
   "metadata": {},
   "outputs": [
    {
     "name": "stdout",
     "output_type": "stream",
     "text": [
      "array('i', [1, 2, 3, 4, 5])\n",
      "array('i', [2, 3, 4, 5])\n"
     ]
    }
   ],
   "source": [
    "#python에서 값, 인덱스 모두 사용하여 array에서 element를 제거할 수 있다\n",
    "array1.remove(60)\n",
    "print(array1)\n",
    "array1.pop(0)\n",
    "print(array1)"
   ]
  },
  {
   "cell_type": "code",
   "execution_count": 6,
   "metadata": {},
   "outputs": [
    {
     "name": "stdout",
     "output_type": "stream",
     "text": [
      "0\n",
      "2\n"
     ]
    }
   ],
   "source": [
    "#search by value, index\n",
    "#search by value\n",
    "print(array1.index(2))\n",
    "#search by index\n",
    "print(array1[0])"
   ]
  },
  {
   "cell_type": "code",
   "execution_count": 7,
   "metadata": {},
   "outputs": [
    {
     "name": "stdout",
     "output_type": "stream",
     "text": [
      "array('i', [200, 3, 4, 5])\n"
     ]
    }
   ],
   "source": [
    "#update element by index\n",
    "array1[0] = 200\n",
    "print(array1)"
   ]
  },
  {
   "cell_type": "code",
   "execution_count": null,
   "metadata": {},
   "outputs": [],
   "source": []
  }
 ],
 "metadata": {
  "kernelspec": {
   "display_name": "Python 3",
   "language": "python",
   "name": "python3"
  },
  "language_info": {
   "codemirror_mode": {
    "name": "ipython",
    "version": 3
   },
   "file_extension": ".py",
   "mimetype": "text/x-python",
   "name": "python",
   "nbconvert_exporter": "python",
   "pygments_lexer": "ipython3",
   "version": "3.7.4"
  }
 },
 "nbformat": 4,
 "nbformat_minor": 2
}
