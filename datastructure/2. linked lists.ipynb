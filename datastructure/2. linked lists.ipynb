{
 "cells": [
  {
   "cell_type": "markdown",
   "metadata": {},
   "source": [
    "# Linked List"
   ]
  },
  {
   "cell_type": "markdown",
   "metadata": {},
   "source": [
    "### element간의 연결을 통해 리스트를 구현"
   ]
  },
  {
   "cell_type": "markdown",
   "metadata": {},
   "source": [
    "### Node들을 통해 연결 구현"
   ]
  },
  {
   "cell_type": "markdown",
   "metadata": {},
   "source": [
    "### Node\n",
    "#### 노드는 element, 다음 노드를 가리키는 값으로 구성되어 있음\n"
   ]
  },
  {
   "cell_type": "code",
   "execution_count": 7,
   "metadata": {},
   "outputs": [],
   "source": [
    "class Node:\n",
    "    def __init__(self, data):\n",
    "        self.data = data\n",
    "        self.next = None\n",
    "        "
   ]
  },
  {
   "cell_type": "code",
   "execution_count": 4,
   "metadata": {},
   "outputs": [],
   "source": [
    "a = Node(3)"
   ]
  },
  {
   "cell_type": "markdown",
   "metadata": {},
   "source": [
    "## Linked List의 구성 요소\n",
    "1. head -> 시작\n",
    "2. tail -> 끝\n",
    "3. current -> 현재 위치\n",
    "4. next -> 다음 노드"
   ]
  },
  {
   "cell_type": "code",
   "execution_count": 202,
   "metadata": {},
   "outputs": [],
   "source": [
    "class Node:\n",
    "    def __init__(self, dataval=None):\n",
    "        self.dataval = dataval\n",
    "        self.nextval = None\n",
    "\n",
    "class SLinkedList:\n",
    "    def __init__(self):\n",
    "        #기본적으로 head에 노드를 넣고, head node에 다음 노드의 위치를 정의해준다면 linked list라 할 수 있음\n",
    "        self.headval = None\n",
    "    \n",
    "    def HeadNode(self):\n",
    "        return self.headval.dataval\n",
    "        \n",
    "    def TailNode(self):\n",
    "        nextvalc = self.headval\n",
    "        while (nextvalc.nextval):\n",
    "            nextvalc = nextvalc.nextval\n",
    "        return nextvalc.dataval\n",
    "        \n",
    "    def AtBegining(self,newdata):\n",
    "        NewNode = Node(newdata)\n",
    "        # 새로 기입한 첫 번째 노드의 다음 노드를 기존 head node로 설정\n",
    "        # 새로운 head node로 삽입하는 값인 new node로 대체\n",
    "        NewNode.nextval = self.headval\n",
    "        self.headval = NewNode\n",
    "        \n",
    "    def AtEnd(self, newdata):\n",
    "        # 마지막 노드를 찾고(없을 경우 첫 노드이자 마지막 노드가 될 것), 마지막 노드의 다음 노드를 새로 삽입하는 노드로 지정\n",
    "        NewNode = Node(newdata)\n",
    "        if self.headval == None:\n",
    "            self.headval = NewNode\n",
    "            return\n",
    "        \n",
    "        nextvalc = self.headval\n",
    "        while (nextvalc.nextval):\n",
    "            nextvalc = nextvalc.nextval\n",
    "        nextvalc.nextval = NewNode\n",
    "        \n",
    "    def AtMiddle(self, middle_node,newdata):\n",
    "        # 삽입하고자 하는 위치 앞, 뒤의 노드 정보가 필요함\n",
    "        # 삽입하고자 하는 위치 앞 노드의 정보를 받고, 해당 노드의 다음 노드를 새로운 노드로 대체\n",
    "        # 삽입한 노드의 다음 노드는 위치 앞 노드의 기존 다음 노드 정보를 삽입\n",
    "        NewNode = Node(newdata)\n",
    "        NewNode.nextval = middle_node.nextval\n",
    "        middle_node.nextval = NewNode\n",
    "    \n",
    "    def DeleteByNode(self, node):\n",
    "        # empty Linked List일 경우 메시지 출력\n",
    "        if self.headval == None:\n",
    "            return \"No Elements in Linked List!!\"\n",
    "        \n",
    "        # Linked List 탐색을 위한 Head Node 변수 할당\n",
    "        nextvalc = self.headval\n",
    "        \n",
    "        # Head Node가 삭제 대상이라면\n",
    "        # 기존 Head Node 삭제, 기존 2 번째 노드를 새로운 Head Node로 정의\n",
    "        if nextvalc == node:\n",
    "            del self.headval\n",
    "            self.headval = node.nextval\n",
    "            return\n",
    "        \n",
    "        # 중간 or 마지막 Node가 삭제 대상이라면 \n",
    "        # 삭제 대상 노드 앞, 뒤 노드를 이어주어 Linked List에서 제거\n",
    "        while(nextvalc.nextval):\n",
    "            if nextvalc.nextval == node:\n",
    "                nextvalc.nextval = nextvalc.nextval.nextval\n",
    "                return\n",
    "            nextvalc = nextvalc.nextval\n",
    "            \n",
    "    def DeleteByElement(self, data):\n",
    "        #Node로 제거하는것과 동일하지만 dataval을 본다.\n",
    "        if self.headval == None:\n",
    "            return \"No Elements in Linked List!!\"\n",
    "        \n",
    "        nextvalc = self.headval\n",
    "        \n",
    "        if nextvalc.dataval == data:\n",
    "            self.headval = self.headval.nextval\n",
    "            return\n",
    "\n",
    "        while(nextvalc.nextval):\n",
    "            if nextvalc.nextval.dataval == data:\n",
    "                nextvalc.nextval = nextvalc.nextval.nextval\n",
    "                return\n",
    "            nextvalc = nextvalc.nextval\n",
    "        \n",
    "    # linked list 출력\n",
    "    def listprint(self):\n",
    "        printval = self.headval\n",
    "        while printval is not None:\n",
    "            print (printval.dataval)\n",
    "            printval = printval.nextval\n",
    "            \n"
   ]
  },
  {
   "cell_type": "code",
   "execution_count": 203,
   "metadata": {},
   "outputs": [
    {
     "name": "stdout",
     "output_type": "stream",
     "text": [
      "Head Node Elemnet is : Sun\n",
      "Tail Node Element is : Thu\n"
     ]
    }
   ],
   "source": [
    "list1 = SLinkedList()\n",
    "list1.headval = Node(\"Mon\")\n",
    "e2 = Node(\"Tue\")\n",
    "e3 = Node(\"Wed\")\n",
    "# Link first Node to second node\n",
    "list1.headval.nextval = e2\n",
    "# Link second Node to third node\n",
    "e2.nextval = e3\n",
    "\n",
    "list1.AtBegining('Sun')\n",
    "list1.AtEnd('Thu')\n",
    "list1.AtMiddle(list1.headval.nextval.nextval,'Ext')\n",
    "print(\"Head Node Elemnet is :\",list1.HeadNode())\n",
    "print(\"Tail Node Element is :\",list1.TailNode())\n",
    "list1.DeleteByElement('Sun')"
   ]
  },
  {
   "cell_type": "code",
   "execution_count": 204,
   "metadata": {},
   "outputs": [
    {
     "name": "stdout",
     "output_type": "stream",
     "text": [
      "Mon\n",
      "Tue\n",
      "Ext\n",
      "Wed\n",
      "Thu\n"
     ]
    }
   ],
   "source": [
    "list1.listprint()"
   ]
  },
  {
   "cell_type": "code",
   "execution_count": null,
   "metadata": {},
   "outputs": [],
   "source": []
  }
 ],
 "metadata": {
  "kernelspec": {
   "display_name": "Python 3",
   "language": "python",
   "name": "python3"
  },
  "language_info": {
   "codemirror_mode": {
    "name": "ipython",
    "version": 3
   },
   "file_extension": ".py",
   "mimetype": "text/x-python",
   "name": "python",
   "nbconvert_exporter": "python",
   "pygments_lexer": "ipython3",
   "version": "3.7.4"
  }
 },
 "nbformat": 4,
 "nbformat_minor": 2
}
