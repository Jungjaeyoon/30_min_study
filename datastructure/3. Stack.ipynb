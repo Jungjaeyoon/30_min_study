{
 "cells": [
  {
   "cell_type": "markdown",
   "metadata": {},
   "source": [
    "## 1. Stack\n",
    "\n",
    "LIFO(Last In First Out) 형식의 자료 구조\n"
   ]
  },
  {
   "cell_type": "markdown",
   "metadata": {},
   "source": [
    "## 2. Stack 구현 기능\n",
    "\n",
    "- peek : 마지막(Last In) 값 리턴\n",
    "- add : Stack에 값 추가\n",
    "- remove : Stack에서 값 제거\n"
   ]
  },
  {
   "cell_type": "markdown",
   "metadata": {},
   "source": [
    "## 3. Stack 구현 방법\n",
    "\n",
    "### python 리스트를 사용하여 구현\n",
    "- 값 추가는 append()\n",
    "- 값 제거는 pop()\n",
    "- peek 는 return stack[-1]"
   ]
  },
  {
   "cell_type": "markdown",
   "metadata": {},
   "source": [
    "## 4. Stack 구현 코드"
   ]
  },
  {
   "cell_type": "code",
   "execution_count": 65,
   "metadata": {},
   "outputs": [],
   "source": [
    "class Stack():\n",
    "    \n",
    "    \n",
    "    def __init__(self):\n",
    "        self.stack = []\n",
    "    \n",
    "    def peek(self):\n",
    "        return self.stack[-1] if len(self.stack) != 0 else 'None'\n",
    "    \n",
    "    def add(self,val):\n",
    "        self.stack.append(val)\n",
    "        return 'add : ' + str(val) \n",
    "        \n",
    "    def remove(self):\n",
    "        if len(self.stack) != 0:\n",
    "            self.stack.pop(-1)\n",
    "            return 'success remove'\n",
    "        \n",
    "        else:\n",
    "            return 'No data in stack'"
   ]
  },
  {
   "cell_type": "code",
   "execution_count": 68,
   "metadata": {},
   "outputs": [],
   "source": [
    "stack = Stack()"
   ]
  },
  {
   "cell_type": "code",
   "execution_count": 70,
   "metadata": {},
   "outputs": [
    {
     "name": "stdout",
     "output_type": "stream",
     "text": [
      "[]\n",
      "add : 3\n",
      "[3]\n",
      "add : 2\n",
      "[3, 2]\n",
      "success remove\n",
      "[3]\n",
      "success remove\n",
      "[]\n",
      "No data in stack\n"
     ]
    }
   ],
   "source": [
    "print(stack.stack)\n",
    "print(stack.add(3))\n",
    "print(stack.stack)\n",
    "print(stack.add(2))\n",
    "print(stack.stack)\n",
    "print(stack.remove())\n",
    "print(stack.stack)\n",
    "print(stack.remove())\n",
    "print(stack.stack)\n",
    "print(stack.remove())\n",
    "\n"
   ]
  }
 ],
 "metadata": {
  "kernelspec": {
   "display_name": "Python 3",
   "language": "python",
   "name": "python3"
  },
  "language_info": {
   "codemirror_mode": {
    "name": "ipython",
    "version": 3
   },
   "file_extension": ".py",
   "mimetype": "text/x-python",
   "name": "python",
   "nbconvert_exporter": "python",
   "pygments_lexer": "ipython3",
   "version": "3.7.4"
  }
 },
 "nbformat": 4,
 "nbformat_minor": 2
}
